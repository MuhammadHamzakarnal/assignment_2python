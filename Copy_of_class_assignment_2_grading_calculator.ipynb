{
  "nbformat": 4,
  "nbformat_minor": 0,
  "metadata": {
    "colab": {
      "provenance": [],
      "authorship_tag": "ABX9TyNC5pGpv+bZK62wrAuPWZDV",
      "include_colab_link": true
    },
    "kernelspec": {
      "name": "python3",
      "display_name": "Python 3"
    },
    "language_info": {
      "name": "python"
    }
  },
  "cells": [
    {
      "cell_type": "markdown",
      "metadata": {
        "id": "view-in-github",
        "colab_type": "text"
      },
      "source": [
        "<a href=\"https://colab.research.google.com/github/MuhammadHamzakarnal/assignment_2python/blob/main/Copy_of_class_assignment_2_grading_calculator.ipynb\" target=\"_parent\"><img src=\"https://colab.research.google.com/assets/colab-badge.svg\" alt=\"Open In Colab\"/></a>"
      ]
    },
    {
      "cell_type": "code",
      "execution_count": null,
      "metadata": {
        "colab": {
          "base_uri": "https://localhost:8080/"
        },
        "id": "IHUcIWr3gzon",
        "outputId": "71d60075-3e59-43e9-b142-b8cea6466b2e"
      },
      "outputs": [
        {
          "output_type": "stream",
          "name": "stdout",
          "text": [
            "Enter your Marks: 75\n",
            "B (Good! You got Grade B 🙂)\n"
          ]
        }
      ],
      "source": [
        "# Class Assignment 2: Grading System & Simple Calculator using Operators\n",
        "# Submitted by: Muhammad Hamza 🌟\n",
        "\n",
        "# Grading System ✔\n",
        "marks = float(input(\"Enter your Marks: \"))\n",
        "\n",
        "if marks >= 90:\n",
        "    print(\"A+ (Congratulations! You got Grade A+ 🎉)\")\n",
        "elif marks >= 80:\n",
        "    print(\"A (Very Good! You got Grade A 👏)\")\n",
        "elif marks >= 70:\n",
        "    print(\"B (Good! You got Grade B 🙂)\")\n",
        "elif marks >= 60:\n",
        "    print(\"C (Average 😐)\")\n",
        "elif marks >= 50:\n",
        "    print(\"D (Below Average 😕)\")\n",
        "else:\n",
        "    print(\"F (You have failed. Better luck next time! 💔)\")\n"
      ]
    },
    {
      "cell_type": "markdown",
      "source": [
        "# **Simple Calculator**"
      ],
      "metadata": {
        "id": "6gHFVathiBQO"
      }
    },
    {
      "cell_type": "code",
      "source": [
        " #---------------------- Simple Calculator ----------------------\n",
        "def calculator():\n",
        "    print(\"\\n--- Simple Calculator ---\")\n",
        "    num1 = float(input(\"Enter first number: \"))\n",
        "    operator = input(\"Enter operation (+, -, *, /): \")\n",
        "    num2 = float(input(\"Enter second number: \"))\n",
        "\n",
        "    if operator == \"+\":\n",
        "        result = f\"Sum of your values is: {num1 + num2}\"\n",
        "    elif operator == \"-\":\n",
        "        result = f\"Subtraction of your values is: {num1 - num2}\"\n",
        "    elif operator == \"*\":\n",
        "        result = f\"Multiplication of your values is: {num1 * num2}\"\n",
        "    elif operator == \"/\":\n",
        "        if num2 == 0:\n",
        "            result = \"Cannot divide by zero ❌\"\n",
        "        else:\n",
        "            result = f\"Division of your values is: {num1 / num2}\"\n",
        "    else:\n",
        "        result = \"Invalid operator! Please use +, -, *, or /\"\n",
        "\n",
        "    print(\"Result:\", result)\n",
        "\n",
        "calculator()"
      ],
      "metadata": {
        "colab": {
          "base_uri": "https://localhost:8080/"
        },
        "id": "LJ-JCaSViFA5",
        "outputId": "3c46fc32-6c7c-4ad9-9b0b-850ed9217757"
      },
      "execution_count": null,
      "outputs": [
        {
          "output_type": "stream",
          "name": "stdout",
          "text": [
            "\n",
            "--- Simple Calculator ---\n",
            "Enter first number: 2\n",
            "Enter operation (+, -, *, /): +\n",
            "Enter second number: 2\n",
            "Result: Sum of your values is: 4.0\n"
          ]
        }
      ]
    }
  ]
}